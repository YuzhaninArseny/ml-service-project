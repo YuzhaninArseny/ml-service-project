{
 "cells": [
  {
   "metadata": {
    "ExecuteTime": {
     "end_time": "2025-02-24T08:19:56.762291Z",
     "start_time": "2025-02-24T08:19:56.753055Z"
    }
   },
   "cell_type": "code",
   "source": [
    "import json\n",
    "import uuid\n",
    "\n",
    "task_id = str(uuid.uuid4())\n",
    "task = {\n",
    "    \"id\": task_id,\n",
    "    \"prompt\": \"sfcwevwVwkej wljfcnlWEJFCNLWEJFCLwejcfnwjencw\",\n",
    "}\n",
    "\n",
    "type(json.dumps(task))"
   ],
   "id": "5686021c368abc21",
   "outputs": [
    {
     "data": {
      "text/plain": [
       "str"
      ]
     },
     "execution_count": 3,
     "metadata": {},
     "output_type": "execute_result"
    }
   ],
   "execution_count": 3
  },
  {
   "metadata": {},
   "cell_type": "code",
   "outputs": [],
   "execution_count": null,
   "source": "",
   "id": "74e3068bbe7748c"
  }
 ],
 "metadata": {
  "kernelspec": {
   "display_name": "Python 3",
   "language": "python",
   "name": "python3"
  },
  "language_info": {
   "codemirror_mode": {
    "name": "ipython",
    "version": 2
   },
   "file_extension": ".py",
   "mimetype": "text/x-python",
   "name": "python",
   "nbconvert_exporter": "python",
   "pygments_lexer": "ipython2",
   "version": "2.7.6"
  }
 },
 "nbformat": 4,
 "nbformat_minor": 5
}
